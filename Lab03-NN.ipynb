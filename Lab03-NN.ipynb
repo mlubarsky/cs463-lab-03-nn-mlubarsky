{
 "cells": [
  {
   "cell_type": "markdown",
   "id": "b703febb",
   "metadata": {},
   "source": [
    "# Lab-03 Neural Networks"
   ]
  },
  {
   "cell_type": "markdown",
   "id": "4d37c9ad",
   "metadata": {},
   "source": [
    "## Loading Data"
   ]
  },
  {
   "cell_type": "code",
   "execution_count": 1,
   "id": "fd247956",
   "metadata": {},
   "outputs": [
    {
     "name": "stderr",
     "output_type": "stream",
     "text": [
      "libpng warning: iCCP: known incorrect sRGB profile\n"
     ]
    },
    {
     "name": "stdout",
     "output_type": "stream",
     "text": [
      "Total images:  2177\n",
      "Total images path:  2177\n",
      "Total postures:  9\n",
      "Total images_pixels:  2177\n"
     ]
    }
   ],
   "source": [
    "import os\n",
    "import re\n",
    "import cv2\n",
    "\n",
    "images = []\n",
    "pose_name = []\n",
    "images_path = []\n",
    "images_pixels = []\n",
    "labels = []\n",
    "\n",
    "dict = {}\n",
    "\n",
    "i=0\n",
    "dataPath = './yogaData'\n",
    "\n",
    "for directory in os.listdir(dataPath):\n",
    "    dirPath = os.path.join(dataPath, directory)\n",
    "    if os.path.isdir(dirPath):\n",
    "        pose_name.append(directory)\n",
    "        for img in os.listdir(dirPath):\n",
    "            if len(re.findall('.png',img.lower())) != 0 or len(re.findall('.jpg',img.lower())) != 0 or len(re.findall('.jpeg',img.lower())) != 0:\n",
    "                img_path = os.path.join(dirPath,img)\n",
    "                images.append(img)\n",
    "                images_path.append(img_path)\n",
    "                img_pix = cv2.imread(img_path,1)\n",
    "                images_pixels.append(cv2.resize(img_pix, (100,100)))\n",
    "                labels.append(i)\n",
    "        \n",
    "    i = i+1\n",
    "            \n",
    "print(\"Total images: \", len(images))\n",
    "print(\"Total images path: \", len(images_path))\n",
    "print(\"Total postures: \", len(pose_name))\n",
    "print(\"Total images_pixels: \", len(images_pixels))  "
   ]
  },
  {
   "cell_type": "code",
   "execution_count": 2,
   "id": "fec6c7af-b70f-4195-acc3-11bfe7085e49",
   "metadata": {},
   "outputs": [
    {
     "data": {
      "text/html": [
       "<div>\n",
       "<style scoped>\n",
       "    .dataframe tbody tr th:only-of-type {\n",
       "        vertical-align: middle;\n",
       "    }\n",
       "\n",
       "    .dataframe tbody tr th {\n",
       "        vertical-align: top;\n",
       "    }\n",
       "\n",
       "    .dataframe thead th {\n",
       "        text-align: right;\n",
       "    }\n",
       "</style>\n",
       "<table border=\"1\" class=\"dataframe\">\n",
       "  <thead>\n",
       "    <tr style=\"text-align: right;\">\n",
       "      <th></th>\n",
       "      <th>0</th>\n",
       "    </tr>\n",
       "  </thead>\n",
       "  <tbody>\n",
       "    <tr>\n",
       "      <th>0</th>\n",
       "      <td>0</td>\n",
       "    </tr>\n",
       "    <tr>\n",
       "      <th>1</th>\n",
       "      <td>0</td>\n",
       "    </tr>\n",
       "    <tr>\n",
       "      <th>2</th>\n",
       "      <td>0</td>\n",
       "    </tr>\n",
       "    <tr>\n",
       "      <th>3</th>\n",
       "      <td>0</td>\n",
       "    </tr>\n",
       "    <tr>\n",
       "      <th>4</th>\n",
       "      <td>0</td>\n",
       "    </tr>\n",
       "    <tr>\n",
       "      <th>...</th>\n",
       "      <td>...</td>\n",
       "    </tr>\n",
       "    <tr>\n",
       "      <th>2172</th>\n",
       "      <td>8</td>\n",
       "    </tr>\n",
       "    <tr>\n",
       "      <th>2173</th>\n",
       "      <td>8</td>\n",
       "    </tr>\n",
       "    <tr>\n",
       "      <th>2174</th>\n",
       "      <td>8</td>\n",
       "    </tr>\n",
       "    <tr>\n",
       "      <th>2175</th>\n",
       "      <td>8</td>\n",
       "    </tr>\n",
       "    <tr>\n",
       "      <th>2176</th>\n",
       "      <td>8</td>\n",
       "    </tr>\n",
       "  </tbody>\n",
       "</table>\n",
       "<p>2177 rows × 1 columns</p>\n",
       "</div>"
      ],
      "text/plain": [
       "      0\n",
       "0     0\n",
       "1     0\n",
       "2     0\n",
       "3     0\n",
       "4     0\n",
       "...  ..\n",
       "2172  8\n",
       "2173  8\n",
       "2174  8\n",
       "2175  8\n",
       "2176  8\n",
       "\n",
       "[2177 rows x 1 columns]"
      ]
     },
     "execution_count": 2,
     "metadata": {},
     "output_type": "execute_result"
    }
   ],
   "source": [
    "import pandas as pd\n",
    "\n",
    "images_df = pd.DataFrame(images)\n",
    "images_df # It appears to be a list of pictures in different file formats.\n",
    "\n",
    "\n",
    "pose_name_df = pd.DataFrame(pose_name)\n",
    "pose_name_df # A list of 8 possible yoga poses to classify. The target.\n",
    "\n",
    "images_path_df = pd.DataFrame(images_path)\n",
    "images_path_df # Directory path to all the files that are in the images list.\n",
    "\n",
    "images_pixels # multi dimensional array of pixels. Higher than 2d.\n",
    "\n",
    "labels_df = pd.DataFrame(labels)\n",
    "labels_df # values 0-8 based on the 8 different yoga poses."
   ]
  },
  {
   "cell_type": "code",
   "execution_count": 3,
   "id": "0dc133df",
   "metadata": {},
   "outputs": [],
   "source": [
    "import random\n",
    "\n",
    "shuffled = list(zip(images_pixels,labels))\n",
    "random.shuffle(shuffled)\n",
    "\n",
    "train_data, labels_data = zip(*shuffled)"
   ]
  },
  {
   "cell_type": "code",
   "execution_count": 4,
   "id": "a33ce89c",
   "metadata": {},
   "outputs": [
    {
     "name": "stderr",
     "output_type": "stream",
     "text": [
      "2023-11-27 06:39:35.842357: I tensorflow/tsl/cuda/cudart_stub.cc:28] Could not find cuda drivers on your machine, GPU will not be used.\n",
      "2023-11-27 06:39:36.035348: I tensorflow/tsl/cuda/cudart_stub.cc:28] Could not find cuda drivers on your machine, GPU will not be used.\n",
      "2023-11-27 06:39:36.036496: I tensorflow/core/platform/cpu_feature_guard.cc:182] This TensorFlow binary is optimized to use available CPU instructions in performance-critical operations.\n",
      "To enable the following instructions: AVX2 FMA, in other operations, rebuild TensorFlow with the appropriate compiler flags.\n",
      "2023-11-27 06:39:37.209013: W tensorflow/compiler/tf2tensorrt/utils/py_utils.cc:38] TF-TRT Warning: Could not find TensorRT\n"
     ]
    }
   ],
   "source": [
    "from tensorflow.keras.utils import to_categorical\n",
    "import numpy as np\n",
    "\n",
    "X_data = np.array(train_data)/255\n",
    "Y_data =  to_categorical(labels_data, num_classes = 10)"
   ]
  },
  {
   "cell_type": "code",
   "execution_count": 5,
   "id": "e21e3933-b9e5-4711-9cbe-3c3f38c909f7",
   "metadata": {},
   "outputs": [
    {
     "data": {
      "image/png": "[encoded data removed]",
      "text/plain": [
       "<Figure size 640x480 with 1 Axes>"
      ]
     },
     "metadata": {},
     "output_type": "display_data"
    }
   ],
   "source": [
    "import matplotlib.pyplot as plt\n",
    "\n",
    "index = random.randint(0, len(X_data) - 1) # Randomly select some image to plot\n",
    "plot_image = X_data[index]\n",
    "\n",
    "plt.imshow(plot_image)\n",
    "plt.title(f'Pose: {pose_name[labels_data[index]]}')\n",
    "plt.show()"
   ]
  },
  {
   "cell_type": "markdown",
   "id": "6fac3aa7",
   "metadata": {},
   "source": [
    "## Split the Data"
   ]
  },
  {
   "cell_type": "code",
   "execution_count": 6,
   "id": "af66b307",
   "metadata": {},
   "outputs": [],
   "source": [
    "from sklearn.model_selection import train_test_split\n",
    "\n",
    "train_x, val_x, train_y, val_y = train_test_split(X_data, Y_data, test_size=0.2, random_state=42)"
   ]
  },
  {
   "cell_type": "code",
   "execution_count": 7,
   "id": "c1562819-c11d-4fc9-85f7-b9729c1fac11",
   "metadata": {},
   "outputs": [
    {
     "name": "stdout",
     "output_type": "stream",
     "text": [
      "train_x shape: (1741, 100, 100, 3)\n",
      "val_X shape: (436, 100, 100, 3)\n",
      "train_y shape: (1741, 10)\n",
      "val_y shape: (436, 10)\n"
     ]
    }
   ],
   "source": [
    "print(\"train_x shape:\", train_x.shape)\n",
    "print(\"val_X shape:\", val_x.shape)\n",
    "print(\"train_y shape:\", train_y.shape)\n",
    "print(\"val_y shape:\", val_y.shape)"
   ]
  },
  {
   "cell_type": "markdown",
   "id": "4380e53f",
   "metadata": {},
   "source": [
    "## Random Forest"
   ]
  },
  {
   "cell_type": "code",
   "execution_count": 8,
   "id": "f7da20ba",
   "metadata": {},
   "outputs": [],
   "source": [
    "nsamples, nx, ny, nrgb = train_x.shape\n",
    "train_x_flattened = train_x.reshape((nsamples, nx * ny * nrgb))\n",
    "\n",
    "nsamples_val, _, _, _ = val_x.shape\n",
    "val_x_flattened = val_x.reshape((nsamples_val, nx * ny * nrgb))"
   ]
  },
  {
   "cell_type": "code",
   "execution_count": 9,
   "id": "8724957f-9a80-401e-a7be-8a030ccd8a42",
   "metadata": {},
   "outputs": [
    {
     "name": "stdout",
     "output_type": "stream",
     "text": [
      "train_x shape: (1741, 30000)\n",
      "val_x shape: (436, 30000)\n"
     ]
    }
   ],
   "source": [
    "print(\"train_x shape:\", train_x_flattened.shape)\n",
    "print(\"val_x shape:\", val_x_flattened.shape)"
   ]
  },
  {
   "cell_type": "code",
   "execution_count": 10,
   "id": "ecda4ce9-b2d1-44ac-b370-cd6e9fe86b5c",
   "metadata": {},
   "outputs": [],
   "source": [
    "from sklearn.ensemble import RandomForestClassifier\n",
    "\n",
    "rf = RandomForestClassifier(\n",
    "    criterion='gini',           # The function to measure the quality of a split\n",
    "    min_samples_split=2,        # The minimum number of samples required to split an internal node\n",
    "    min_samples_leaf=1,         # The minimum number of samples required to be at a leaf node\n",
    "    max_features='sqrt',        # The number of features when looking for the best split\n",
    "    bootstrap=True,             # Whether bootstrap samples are used when building trees\n",
    "    random_state=42             # Controls both the randomness of the bootstrapping of the samples \n",
    "                                # used when building trees and the sampling of the features to consider when looking for the best split at each node\n",
    ")"
   ]
  },
  {
   "cell_type": "code",
   "execution_count": 11,
   "id": "4563e7c6-b25a-4dd6-a482-b37b20279d5a",
   "metadata": {},
   "outputs": [
    {
     "data": {
      "text/html": [
       "<style>#sk-container-id-1 {color: black;}#sk-container-id-1 pre{padding: 0;}#sk-container-id-1 div.sk-toggleable {background-color: white;}#sk-container-id-1 label.sk-toggleable__label {cursor: pointer;display: block;width: 100%;margin-bottom: 0;padding: 0.3em;box-sizing: border-box;text-align: center;}#sk-container-id-1 label.sk-toggleable__label-arrow:before {content: \"▸\";float: left;margin-right: 0.25em;color: #696969;}#sk-container-id-1 label.sk-toggleable__label-arrow:hover:before {color: black;}#sk-container-id-1 div.sk-estimator:hover label.sk-toggleable__label-arrow:before {color: black;}#sk-container-id-1 div.sk-toggleable__content {max-height: 0;max-width: 0;overflow: hidden;text-align: left;background-color: #f0f8ff;}#sk-container-id-1 div.sk-toggleable__content pre {margin: 0.2em;color: black;border-radius: 0.25em;background-color: #f0f8ff;}#sk-container-id-1 input.sk-toggleable__control:checked~div.sk-toggleable__content {max-height: 200px;max-width: 100%;overflow: auto;}#sk-container-id-1 input.sk-toggleable__control:checked~label.sk-toggleable__label-arrow:before {content: \"▾\";}#sk-container-id-1 div.sk-estimator input.sk-toggleable__control:checked~label.sk-toggleable__label {background-color: #d4ebff;}#sk-container-id-1 div.sk-label input.sk-toggleable__control:checked~label.sk-toggleable__label {background-color: #d4ebff;}#sk-container-id-1 input.sk-hidden--visually {border: 0;clip: rect(1px 1px 1px 1px);clip: rect(1px, 1px, 1px, 1px);height: 1px;margin: -1px;overflow: hidden;padding: 0;position: absolute;width: 1px;}#sk-container-id-1 div.sk-estimator {font-family: monospace;background-color: #f0f8ff;border: 1px dotted black;border-radius: 0.25em;box-sizing: border-box;margin-bottom: 0.5em;}#sk-container-id-1 div.sk-estimator:hover {background-color: #d4ebff;}#sk-container-id-1 div.sk-parallel-item::after {content: \"\";width: 100%;border-bottom: 1px solid gray;flex-grow: 1;}#sk-container-id-1 div.sk-label:hover label.sk-toggleable__label {background-color: #d4ebff;}#sk-container-id-1 div.sk-serial::before {content: \"\";position: absolute;border-left: 1px solid gray;box-sizing: border-box;top: 0;bottom: 0;left: 50%;z-index: 0;}#sk-container-id-1 div.sk-serial {display: flex;flex-direction: column;align-items: center;background-color: white;padding-right: 0.2em;padding-left: 0.2em;position: relative;}#sk-container-id-1 div.sk-item {position: relative;z-index: 1;}#sk-container-id-1 div.sk-parallel {display: flex;align-items: stretch;justify-content: center;background-color: white;position: relative;}#sk-container-id-1 div.sk-item::before, #sk-container-id-1 div.sk-parallel-item::before {content: \"\";position: absolute;border-left: 1px solid gray;box-sizing: border-box;top: 0;bottom: 0;left: 50%;z-index: -1;}#sk-container-id-1 div.sk-parallel-item {display: flex;flex-direction: column;z-index: 1;position: relative;background-color: white;}#sk-container-id-1 div.sk-parallel-item:first-child::after {align-self: flex-end;width: 50%;}#sk-container-id-1 div.sk-parallel-item:last-child::after {align-self: flex-start;width: 50%;}#sk-container-id-1 div.sk-parallel-item:only-child::after {width: 0;}#sk-container-id-1 div.sk-dashed-wrapped {border: 1px dashed gray;margin: 0 0.4em 0.5em 0.4em;box-sizing: border-box;padding-bottom: 0.4em;background-color: white;}#sk-container-id-1 div.sk-label label {font-family: monospace;font-weight: bold;display: inline-block;line-height: 1.2em;}#sk-container-id-1 div.sk-label-container {text-align: center;}#sk-container-id-1 div.sk-container {/* jupyter's `normalize.less` sets `[hidden] { display: none; }` but bootstrap.min.css set `[hidden] { display: none !important; }` so we also need the `!important` here to be able to override the default hidden behavior on the sphinx rendered scikit-learn.org. See: https://github.com/scikit-learn/scikit-learn/issues/21755 */display: inline-block !important;position: relative;}#sk-container-id-1 div.sk-text-repr-fallback {display: none;}</style><div id=\"sk-container-id-1\" class=\"sk-top-container\"><div class=\"sk-text-repr-fallback\"><pre>RandomForestClassifier(random_state=42)</pre><b>In a Jupyter environment, please rerun this cell to show the HTML representation or trust the notebook. <br />On GitHub, the HTML representation is unable to render, please try loading this page with nbviewer.org.</b></div><div class=\"sk-container\" hidden><div class=\"sk-item\"><div class=\"sk-estimator sk-toggleable\"><input class=\"sk-toggleable__control sk-hidden--visually\" id=\"sk-estimator-id-1\" type=\"checkbox\" checked><label for=\"sk-estimator-id-1\" class=\"sk-toggleable__label sk-toggleable__label-arrow\">RandomForestClassifier</label><div class=\"sk-toggleable__content\"><pre>RandomForestClassifier(random_state=42)</pre></div></div></div></div></div>"
      ],
      "text/plain": [
       "RandomForestClassifier(random_state=42)"
      ]
     },
     "execution_count": 11,
     "metadata": {},
     "output_type": "execute_result"
    }
   ],
   "source": [
    "rf.fit(train_x_flattened, train_y.argmax(axis=1))"
   ]
  },
  {
   "cell_type": "code",
   "execution_count": 12,
   "id": "76e33b3b-2091-4e83-b4ca-3f07fdc8d15c",
   "metadata": {},
   "outputs": [],
   "source": [
    "predict_y = rf.predict(val_x_flattened)"
   ]
  },
  {
   "cell_type": "code",
   "execution_count": 13,
   "id": "31df9678-a08e-420f-adf5-a55492bee53a",
   "metadata": {},
   "outputs": [
    {
     "name": "stdout",
     "output_type": "stream",
     "text": [
      "Accuracy: 0.676605504587156\n"
     ]
    }
   ],
   "source": [
    "from sklearn.metrics import accuracy_score\n",
    "\n",
    "accuracy = accuracy_score(val_y.argmax(axis=1), predict_y)\n",
    "print(\"Accuracy:\", accuracy)"
   ]
  },
  {
   "cell_type": "code",
   "execution_count": 14,
   "id": "c577d045-0025-4a12-87df-89fa99312309",
   "metadata": {},
   "outputs": [
    {
     "name": "stdout",
     "output_type": "stream",
     "text": [
      "Classification Report:\n",
      "              precision    recall  f1-score   support\n",
      "\n",
      "           0       0.63      0.66      0.64        44\n",
      "           1       0.72      0.66      0.69        59\n",
      "           2       0.60      0.77      0.68        64\n",
      "           3       0.65      0.78      0.71        50\n",
      "           4       0.75      0.83      0.79        36\n",
      "           5       0.73      0.65      0.69        46\n",
      "           6       0.73      0.70      0.71        53\n",
      "           7       0.66      0.45      0.54        42\n",
      "           8       0.68      0.55      0.61        42\n",
      "\n",
      "    accuracy                           0.68       436\n",
      "   macro avg       0.68      0.67      0.67       436\n",
      "weighted avg       0.68      0.68      0.67       436\n",
      "\n"
     ]
    }
   ],
   "source": [
    "from sklearn.metrics import classification_report\n",
    "\n",
    "print(\"Classification Report:\")\n",
    "print(classification_report(val_y.argmax(axis=1), predict_y))"
   ]
  },
  {
   "cell_type": "code",
   "execution_count": 15,
   "id": "181f22fc-dbdb-4a9f-9b74-bb302e6899fa",
   "metadata": {},
   "outputs": [],
   "source": [
    "# It looks like the predictions are some what accurate"
   ]
  },
  {
   "cell_type": "markdown",
   "id": "f128483b",
   "metadata": {},
   "source": [
    "## Convolutional Neural Network"
   ]
  },
  {
   "cell_type": "markdown",
   "id": "61ba27f0",
   "metadata": {},
   "source": [
    "### DataLoader"
   ]
  },
  {
   "cell_type": "code",
   "execution_count": 16,
   "id": "5a8d4937",
   "metadata": {},
   "outputs": [],
   "source": [
    "from torch.utils.data import DataLoader\n",
    "\n",
    "from torch.utils.data import Dataset\n",
    "\n",
    "class CustomDataset(Dataset):\n",
    "    def __init__(self, X, Y, transform=None):\n",
    "        self.X = X\n",
    "        self.Y = Y\n",
    "        self.transform = transform\n",
    "\n",
    "    def __len__(self):\n",
    "        return len(self.X)\n",
    "\n",
    "    def __getitem__(self, idx):\n",
    "        x_sample = self.X[idx]\n",
    "        y_sample = self.Y[idx]\n",
    "        \n",
    "        if self.transform:\n",
    "            x_sample = self.transform(x_sample)\n",
    "            \n",
    "        return x_sample, y_sample"
   ]
  },
  {
   "cell_type": "code",
   "execution_count": 17,
   "id": "696b8df5",
   "metadata": {},
   "outputs": [],
   "source": [
    "from torchvision import transforms\n",
    "\n",
    "img_transform = transforms.Compose([\n",
    "    transforms.ToTensor(),  # Converts the image to a PyTorch tensor\n",
    "])"
   ]
  },
  {
   "cell_type": "code",
   "execution_count": 18,
   "id": "c2148485",
   "metadata": {},
   "outputs": [],
   "source": [
    "train_dataset = CustomDataset(train_x, train_y, img_transform)"
   ]
  },
  {
   "cell_type": "code",
   "execution_count": 19,
   "id": "00bfcea0",
   "metadata": {},
   "outputs": [],
   "source": [
    "val_dataset = CustomDataset(val_x, val_y, img_transform)"
   ]
  },
  {
   "cell_type": "markdown",
   "id": "6a2959fb",
   "metadata": {},
   "source": [
    "### Neural Network"
   ]
  },
  {
   "cell_type": "code",
   "execution_count": 20,
   "id": "f4e17d02-122e-45b1-ab2a-b0cb01ee2f14",
   "metadata": {},
   "outputs": [],
   "source": [
    "from torch.utils.data import DataLoader\n",
    "\n",
    "trainLoader = DataLoader(train_dataset, batch_size=16)\n",
    "valLoader = DataLoader(val_dataset, batch_size=16)"
   ]
  },
  {
   "cell_type": "code",
   "execution_count": 21,
   "id": "3046bade-9ce4-4469-990d-a9adf8ce0375",
   "metadata": {},
   "outputs": [],
   "source": [
    "from torch import nn\n",
    "\n",
    "class CNN(nn.Module):\n",
    "    def __init__(self):\n",
    "        super(CNN, self).__init__()\n",
    "\n",
    "        self.cnn_layers = nn.Sequential(\n",
    "            # in channels: # colors in input image (grey = 1; color = 3)\n",
    "            # out channels: # filters\n",
    "            # kernel size: how big an area should we consider\n",
    "            # stride: # of pixels to move the kernel over by\n",
    "            # padding: # of pixels to add at each edge of image (3x3 kernel : padding = 1 ||\n",
    "            #           5x5 kernel : padding = 2)\n",
    "            nn.Conv2d(3, 16, kernel_size=3, stride=1, padding=1),\n",
    "            nn.BatchNorm2d(16),\n",
    "            nn.ReLU(inplace=True),\n",
    "            nn.MaxPool2d(kernel_size=2, stride=2),\n",
    "            nn.Conv2d(16, 16, kernel_size=3, stride=1, padding=1),\n",
    "            nn.ReLU(inplace=True),\n",
    "            nn.MaxPool2d(kernel_size=2, stride=2),\n",
    "        )\n",
    "        self.linear_layers = nn.Sequential(nn.Linear(10000, 10))\n",
    "\n",
    "    def forward(self, X):\n",
    "        X = X.float()\n",
    "        output = self.cnn_layers(X)\n",
    "        output = output.view(output.size(0), -1)\n",
    "        output = self.linear_layers(output)\n",
    "        return output"
   ]
  },
  {
   "cell_type": "code",
   "execution_count": 22,
   "id": "fdacd830-b0c1-4bc2-b3ce-04506e02f6eb",
   "metadata": {},
   "outputs": [],
   "source": [
    "model = CNN()"
   ]
  },
  {
   "cell_type": "code",
   "execution_count": 23,
   "id": "abc04a40-845b-4e3e-8440-3028f0047922",
   "metadata": {},
   "outputs": [],
   "source": [
    "import torch.optim as optim\n",
    "\n",
    "optimiser = optim.Adam(model.parameters(), lr=0.0001)\n",
    "criterion = nn.CrossEntropyLoss()"
   ]
  },
  {
   "cell_type": "code",
   "execution_count": 25,
   "id": "31a236ad-03e2-4eb7-ad7a-6c39069befe0",
   "metadata": {},
   "outputs": [
    {
     "name": "stdout",
     "output_type": "stream",
     "text": [
      "Epoch 0 loss: 1.5018828801058848\n",
      "Epoch 1 loss: 1.2612677976625775\n",
      "Epoch 2 loss: 1.0823331830698415\n",
      "Epoch 3 loss: 0.935535450320725\n",
      "Epoch 4 loss: 0.8107557266677191\n",
      "Epoch 5 loss: 0.7037500744565911\n",
      "Epoch 6 loss: 0.611688486479838\n",
      "Epoch 7 loss: 0.5331204026390653\n",
      "Epoch 8 loss: 0.46653902626365695\n",
      "Epoch 9 loss: 0.4099260356721528\n",
      "Epoch 10 loss: 0.36173404459286174\n",
      "Epoch 11 loss: 0.32042427402023876\n",
      "Epoch 12 loss: 0.285078674349763\n",
      "Epoch 13 loss: 0.25537648721845874\n",
      "Epoch 14 loss: 0.23080849975620935\n",
      "Epoch 15 loss: 0.21043450624570934\n",
      "Epoch 16 loss: 0.1935689950686529\n",
      "Epoch 17 loss: 0.17951960530166233\n",
      "Epoch 18 loss: 0.16788978372281843\n",
      "Epoch 19 loss: 0.15841262625239858\n",
      "Epoch 20 loss: 0.1505991939045147\n",
      "Epoch 21 loss: 0.1441136059616137\n",
      "Epoch 22 loss: 0.13810835848776026\n",
      "Epoch 23 loss: 0.13222418621250795\n",
      "Epoch 24 loss: 0.12641030917405535\n",
      "Epoch 25 loss: 0.12156732882791703\n",
      "Epoch 26 loss: 0.11684393002694353\n",
      "Epoch 27 loss: 0.11244827874620027\n",
      "Epoch 28 loss: 0.10912347856669798\n",
      "Epoch 29 loss: 0.10669949392728302\n",
      "Epoch 30 loss: 0.10456928985039575\n",
      "Epoch 31 loss: 0.10276046322675747\n",
      "Epoch 32 loss: 0.1011190764742707\n",
      "Epoch 33 loss: 0.09976758731853798\n",
      "Epoch 34 loss: 0.0989524010107468\n"
     ]
    }
   ],
   "source": [
    "epochs = 35\n",
    "epoch = 0\n",
    "total_patience = 3\n",
    "patience = total_patience\n",
    "stop_training = False\n",
    "\n",
    "prev_valid_loss = 500000.\n",
    "\n",
    "while epoch < epochs and not stop_training:\n",
    "    total_loss = 0.\n",
    "    valid_loss = 0.\n",
    "\n",
    "    # Train\n",
    "    model.train()\n",
    "    for images, labels in trainLoader:\n",
    "        optimiser.zero_grad()\n",
    "        output = model(images)\n",
    "        loss = criterion(output, labels)\n",
    "        loss.backward()\n",
    "        optimiser.step()\n",
    "        total_loss += loss.item()\n",
    "\n",
    "\n",
    "    print('Epoch', epoch, 'loss:', (total_loss / len(trainLoader)))\n",
    "\n",
    "    epoch += 1"
   ]
  },
  {
   "cell_type": "code",
   "execution_count": 26,
   "id": "937983e5-9e62-4572-9005-12cc2729cd15",
   "metadata": {
    "scrolled": true
   },
   "outputs": [
    {
     "name": "stdout",
     "output_type": "stream",
     "text": [
      "Accuracy 0.6559633027522935\n"
     ]
    }
   ],
   "source": [
    "# Validate\n",
    "import torch\n",
    "total = 0\n",
    "correct = 0\n",
    "\n",
    "model.eval()\n",
    "for image, labels in valLoader:\n",
    "    output = model(image)\n",
    "    _, predicted = torch.max(output, 1)\n",
    "    for i in range(len(labels)):\n",
    "        pred = predicted[i]\n",
    "        total+=1\n",
    "        if labels[i][pred] == 1:\n",
    "            correct += 1\n",
    "print('Accuracy', float(correct) / float(total))"
   ]
  },
  {
   "cell_type": "code",
   "execution_count": null,
   "id": "a162296f-378b-4bbb-ac99-1df6bb4f8afb",
   "metadata": {},
   "outputs": [],
   "source": []
  }
 ],
 "metadata": {
  "kernelspec": {
   "display_name": "Python 3 (ipykernel)",
   "language": "python",
   "name": "python3"
  },
  "language_info": {
   "codemirror_mode": {
    "name": "ipython",
    "version": 3
   },
   "file_extension": ".py",
   "mimetype": "text/x-python",
   "name": "python",
   "nbconvert_exporter": "python",
   "pygments_lexer": "ipython3",
   "version": "3.8.10"
  }
 },
 "nbformat": 4,
 "nbformat_minor": 5
}
